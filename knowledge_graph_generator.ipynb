{
 "cells": [
  {
   "cell_type": "code",
   "execution_count": null,
   "metadata": {
    "ExecuteTime": {
     "end_time": "2024-10-10T11:37:23.780403Z",
     "start_time": "2024-10-10T11:37:23.775565Z"
    }
   },
   "outputs": [],
   "source": [
    "# Import related packages\n",
    "from knowledge_graph_builder import KnowledgeGraphBuilder, EAOntology, EROntology, GroqClient\n",
    "from knowledge_graph_builder import KGToNeo4j\n",
    "import pandas as pd\n",
    "import os\n",
    "# Set the username and password for the neo4j database\n",
    "uri = \"bolt://localhost:7687\"\n",
    "username = \"neo4j\"\n",
    "password = \"\""
   ]
  },
  {
   "cell_type": "markdown",
   "metadata": {},
   "source": [
    "### Define ontology"
   ]
  },
  {
   "cell_type": "code",
   "execution_count": 2,
   "metadata": {
    "ExecuteTime": {
     "end_time": "2024-10-10T11:37:23.825989Z",
     "start_time": "2024-10-10T11:37:23.820205Z"
    }
   },
   "outputs": [],
   "source": [
    "# Define Entity Relationship Ontology\n",
    "def define_ERontology():\n",
    "    return EROntology(\n",
    "        entities=[\n",
    "            {\"植物\": \"红树,芦苇,互花米草,碱蓬,盐地碱蓬,盐角草,獐毛,蒲公英,柽柳,稻,丛枝蓼,川蔓藻,刺槐,刺苋,大叶藻,地榆,繁缕,拂子茅,浮萍,甘草,杠柳,狗牙根,构,黑藻,碱茅,金鱼藻,决明,苦草,苦荬菜,荔枝草,木榄,海莲,滨麦，秋英\"},\n",
    "            {\"水体\": \"海水, 潮沟, 池塘, 河流, 湖泊, 湿地池, 沼泽\"},\n",
    "            {\"滩涂\": \"滩涂,潮滩\"},\n",
    "            {\"农田\": \"旱耕地, 水浇地\"},\n",
    "            {\"湿地\": \"海滩盐沼\"},\n",
    "            {\"属\": \"蓼属,川蔓藻属,稻属\"},\n",
    "            {\"科\": \"菊科,泽泻科,苋科,豆科,禾本科,蓼科，川蔓藻科\"},\n",
    "            {\"界\":\"植物界\"},\n",
    "            {\"门\":\"被子植物门,绿藻门,红藻门\"},\n",
    "            {\"纲\":\"木兰纲,双子叶植物纲,单子叶植物纲,木贼纲\"},\n",
    "            {\"目\":\"菊目,泽泻目,石竹目,豆目,禾本目\"},\n",
    "            {\"群落\":\"草甸,红树林群落,香蒲群落,海草床群落，潮上带群落,潮间带群落，白茅群落,芦苇群落,盐沼群落,棒头草群落,凤眼莲群落,空心莲子草群落,眼子菜群落,酸模叶蓼群落,大薸群落\"},\n",
    "        ],\n",
    "        relationships=[\n",
    "            \"邻近\",\n",
    "            \"生长\",\n",
    "            \"界\",\n",
    "            \"门\",\n",
    "            \"纲\",\n",
    "            \"目\",\n",
    "            \"科\",\n",
    "            \"属\",\n",
    "            \"别名\",\n",
    "            \"俗名\",\n",
    "            \"优势种\",\n",
    "            \"伴生种\",\n",
    "        ]\n",
    ")"
   ]
  },
  {
   "cell_type": "code",
   "execution_count": 3,
   "metadata": {},
   "outputs": [],
   "source": [
    "# Define Entity Attribute Ontology\n",
    "def define_EAontology():\n",
    "    return EAOntology(\n",
    "        entities=[\n",
    "            {\"植物\": \"红树,芦苇,互花米草,碱蓬,盐地碱蓬,盐角草,獐毛,蒲公英,柽柳,稻,丛枝蓼,川蔓藻,刺槐,刺苋,大叶藻,地榆,繁缕,拂子茅,浮萍,甘草,杠柳,狗牙根,构,黑藻,碱茅,金鱼藻,决明,苦草,苦荬菜,荔枝草,木榄,海莲,滨麦，秋英\"},\n",
    "            {\"水体\": \"海水, 潮沟, 池塘, 河流, 湖泊, 湿地池, 沼泽\"},\n",
    "            {\"滩涂\": \"滩涂,潮滩\"},\n",
    "            {\"湿地\": \"海滩盐沼\"},{\"群落\":\"草甸,红树林群落,香蒲群落,海草床群落，潮上带群落,潮间带群落，白茅群落,芦苇群落,盐沼群落,棒头草群落,凤眼莲群落,空心莲子草群落,眼子菜群落,酸模叶蓼群落,大薸群落\"},\n",
    "        ],\n",
    "        attributes=[\n",
    "            {\"生活型\": \"多年生草本植物,一年生草本植物,一年或二年生草本植物,乔木或灌木,多年生沉水草本植物\"},\n",
    "            {\"高度\": \"45-100厘米\"},\n",
    "            {\"盖度\": \"75-90%,100%\"},\n",
    "            {\"颜色\": \"深蓝色,绿色,粉红色\"},\n",
    "            {\"染色体\": \"2n=30\"},\n",
    "            {\"花\": \"花单生，盛开时长约3厘米，花梗萼平滑无棱，暗黄红色，花柱棱柱形，长约2厘米，黄色且柱头有裂；\"},\n",
    "            {\"学名\": \"yrrhiza uralensis Fisch.\"},\n",
    "            {\"茎\": \"茎直立，颜色为绿色，表面光滑。\"},\n",
    "            {\"叶\": \"叶椭圆状长圆形，长达15厘米，先端短尖，基部楔形；\"},\n",
    "            {\"花\": \"花序圆锥状疏展，花色为淡黄色，长约30厘米，分枝多，棱粗糙，在成熟期弯垂，小穗两侧扁，为长圆状卵形或椭圆形，长约1厘米，宽2-4毫米，花药长2-3毫米。\"},\n",
    "            {\"果实\": \"果实为谷粒，呈卵形或椭圆形对圆筒状，颜色为米白色或金黄色，长约5毫米，宽约2毫米，厚1-1.5毫米。\"},\n",
    "            {\"种子\": \"种子矩圆状卵形，种皮近革质，有钩状刺毛，直径约1.5毫米。\"},\n",
    "            {\"功效\": \"全草可入药，有清血、解热、生肌之效。\"},\n",
    "            {\"物候期\": \"花期4-5月，果期6-7月。\"},\n",
    "            {\"用途\": \"韧皮纤维可作造纸材料\"},\n",
    "            {\"作用\": \"沼泽在维护生态系统稳定性、促进水循环和提供养分方面具有重要作用。滨海湿地草甸在水质净化、洪水调节和土壤保持方面发挥着重要作用，能够过滤污染物，减少水土流失。\"},\n",
    "            {\"生境\":\"生于轻度盐碱性湿润草地、田边、水溪、河谷、低草甸盐化沙地。\"},  \n",
    "        ]\n",
    "    )"
   ]
  },
  {
   "cell_type": "markdown",
   "metadata": {},
   "source": [
    "### Define a function that exports triples to excel"
   ]
  },
  {
   "cell_type": "code",
   "execution_count": 4,
   "metadata": {},
   "outputs": [],
   "source": [
    "\n",
    "def export_to_directory(graph, ontology, output_dir):\n",
    "    if not os.path.exists(output_dir):\n",
    "        os.makedirs(output_dir)\n",
    "    \n",
    "    # Define file name\n",
    "    ER_filename = \"ERTriples.xlsx\"\n",
    "    EA_filename = \"EATriples.xlsx\"\n",
    "    \n",
    "    # Build a complete file path\n",
    "    ER_outputfile = os.path.join(output_dir, ER_filename)\n",
    "    EA_outputfile = os.path.join(output_dir, EA_filename)\n",
    "    \n",
    "    # Extracting Entity Relationship Triples\n",
    "    ER_extracted_data = [\n",
    "        [edge.node_1.entity, edge.node_1.name, edge.node_2.entity, edge.node_2.name, edge.relationship]\n",
    "        for edge in graph\n",
    "        if isinstance(ontology, EROntology)  \n",
    "    ]\n",
    "    # Extracting Entity Attribute Triples\n",
    "    EA_extracted_data = [\n",
    "        [edge.node_1.entity, edge.node_1.name, edge.node_2.attribute, edge.node_2.name, edge.relationship]\n",
    "        for edge in graph\n",
    "        if isinstance(ontology, EAOntology)  \n",
    "    ]\n",
    "    \n",
    "    # Write Entity Relationship Triples to Excel\n",
    "    if ER_extracted_data:\n",
    "        ER_df = pd.DataFrame(ER_extracted_data, columns=['head', 'key1', 'tail', 'key2', 'relationship'])\n",
    "        ER_df = ER_df[['head', 'key1', 'relationship', 'tail', 'key2']]\n",
    "        ER_fileexists = os.path.isfile(ER_outputfile)\n",
    "        if not ER_fileexists:\n",
    "            ER_df.to_excel(ER_outputfile, index=False)\n",
    "        else:\n",
    "            with pd.ExcelWriter(ER_outputfile, mode='a', if_sheet_exists='overlay') as writer:\n",
    "                existing_df_er = pd.read_excel(ER_outputfile)\n",
    "                combined_df_er = pd.concat([existing_df_er, ER_df], ignore_index=True)\n",
    "                combined_df_er.to_excel(writer, index=False)\n",
    "    \n",
    "    # Write Entity Attribute Triples to Excel\n",
    "    if EA_extracted_data:\n",
    "        EA_df = pd.DataFrame(EA_extracted_data, columns=['head', 'key1', 'tail', 'key2', 'attribute'])\n",
    "        EA_df = EA_df[['head', 'key1', 'attribute', 'tail', 'key2']]\n",
    "        EA_fileexists = os.path.isfile(EA_outputfile)\n",
    "        if not EA_fileexists:\n",
    "            EA_df.to_excel(EA_outputfile, index=False)\n",
    "        else:\n",
    "            with pd.ExcelWriter(EA_outputfile, mode='a', if_sheet_exists='overlay') as writer:\n",
    "                existing_df_ea = pd.read_excel(EA_outputfile)\n",
    "                combined_df_ea = pd.concat([existing_df_ea, EA_df], ignore_index=True)\n",
    "                combined_df_ea.to_excel(writer, index=False)\n"
   ]
  },
  {
   "attachments": {},
   "cell_type": "markdown",
   "metadata": {},
   "source": [
    "### Define the LLM"
   ]
  },
  {
   "cell_type": "code",
   "execution_count": 5,
   "metadata": {
    "ExecuteTime": {
     "end_time": "2024-10-10T11:37:23.852601Z",
     "start_time": "2024-10-10T11:37:23.843324Z"
    }
   },
   "outputs": [],
   "source": [
    "# Groq models\n",
    "model = \"llama3-70b-8192\"\n",
    "\n",
    "# Open AI models\n",
    "oai_model=\"gpt-3.5-turbo\"\n",
    "\n",
    "# Use Groq\n",
    "LLM = GroqClient(model=model, temperature=0.1, top_p=0.5)\n",
    "# OR Use OpenAI\n",
    "# llm = OpenAIClient(model=oai_model, temperature=0.1, top_p=0.5)"
   ]
  },
  {
   "cell_type": "code",
   "execution_count": 6,
   "metadata": {
    "ExecuteTime": {
     "end_time": "2024-10-10T11:37:23.968177Z",
     "start_time": "2024-10-10T11:37:23.895480Z"
    }
   },
   "outputs": [
    {
     "name": "stdout",
     "output_type": "stream",
     "text": [
      "Using LLM Model:  llama3-70b-8192\n",
      "Using LLM Model:  llama3-70b-8192\n",
      "Using LLM Model:  llama3-70b-8192\n"
     ]
    },
    {
     "name": "stderr",
     "output_type": "stream",
     "text": [
      "\u001b[92m\u001b[39m\n",
      "\u001b[92m▶︎ KNOWLEDGE GRAPH BUILDER LOG - 2024-12-06 10:47:22 - INFO \u001b[39m\n",
      "\u001b[92mProcessing document: 1\u001b[39m\n",
      "\u001b[92m\u001b[39m\n",
      "\u001b[94m\u001b[39m\n",
      "\u001b[94m▶︎ KNOWLEDGE GRAPH BUILDER DEBUG - 2024-12-06 10:47:22 - INFO \u001b[39m\n",
      "\u001b[94mExtracting edges from document with ontology:\n",
      "{'entities': [{'植物': '红树,芦苇,互花米草,碱蓬,盐地碱蓬,盐角草,獐毛,蒲公英,柽柳,稻,丛枝蓼,川蔓藻,刺槐,刺苋,大叶藻,地榆,繁缕,拂子茅,浮萍,甘草,杠柳,狗牙根,构,黑藻,碱茅,金鱼藻,决明,苦草,苦荬菜,荔枝草,木榄,海莲,滨麦，秋英'}, {'水体': '海水, 潮沟, 池塘, 河流, 湖泊, 湿地池, 沼泽'}, {'滩涂': '滩涂,潮滩'}, {'农田': '旱耕地, 水浇地'}, {'湿地': '海滩盐沼'}, {'属': '蓼属,川蔓藻属,稻属'}, {'科': '菊科,泽泻科,苋科,豆科,禾本科,蓼科，川蔓藻科'}, {'界': '植物界'}, {'门': '被子植物门,绿藻门,红藻门'}, {'纲': '木兰纲,双子叶植物纲,单子叶植物纲,木贼纲'}, {'目': '菊目,泽泻目,石竹目,豆目,禾本目'}, {'群落': '草甸,红树林群落,香蒲群落,海草床群落，潮上带群落,潮间带群落，白茅群落,芦苇群落,盐沼群落,棒头草群落,凤眼莲群落,空心莲子草群落,眼子菜群落,酸模叶蓼群落,大薸群落'}], 'relationships': ['邻近', '生长', '界', '门', '纲', '目', '科', '属', '别名', '俗名', '优势种', '伴生种']}\u001b[39m\n",
      "\u001b[94m\u001b[39m\n"
     ]
    },
    {
     "name": "stdout",
     "output_type": "stream",
     "text": [
      "Using LLM Model:  llama3-70b-8192\n"
     ]
    },
    {
     "name": "stderr",
     "output_type": "stream",
     "text": [
      "\u001b[92m\u001b[39m\n",
      "\u001b[92m▶︎ KNOWLEDGE GRAPH BUILDER LOG - 2024-12-06 10:48:13 - INFO \u001b[39m\n",
      "\u001b[92mResponse received, parsing JSON.\u001b[39m\n",
      "\u001b[92m\u001b[39m\n",
      "\u001b[92m\u001b[39m\n",
      "\u001b[92m▶︎ KNOWLEDGE GRAPH BUILDER LOG - 2024-12-06 10:48:13 - INFO \u001b[39m\n",
      "\u001b[92mAttempting to parse JSON: \n",
      "[\n",
      "   {\n",
      "       \"node_1\": {\"entity\": \"植物\", \"name\": \"红树\"},\n",
      "       \"node_2\": {\"entity\": \"界\", \"name\": \"植物界\"},\n",
      "       \"relationship\": \"界\"\n",
      "   },\n",
      "   {\n",
      "       \"node_1\": {\"entity\": \"植物\", \"name\": \"红树\"},\n",
      "       \"node_2\": {\"entity\": \"门\", \"name\": \"被子植物门\"},\n",
      "       \"relationship\": \"门\"\n",
      "   },\n",
      "   {\n",
      "       \"node_1\": {\"entity\": \"植物\", \"name\": \"红树\"},\n",
      "       \"node_2\": {\"entity\": \"纲\", \"name\": \"木兰纲\"},\n",
      "       \"relationship\": \"纲\"\n",
      "   },\n",
      "   {\n",
      "       \"node_1\": {\"entity\": \"植物\", \"name\": \"红树\"},\n",
      "       \"node_2\": {\"entity\": \"目\", \"name\": \"金虎尾目\"},\n",
      "       \"relationship\": \"目\"\n",
      "   },\n",
      "   {\n",
      "       \"node_1\": {\"entity\": \"植物\", \"name\": \"红树\"},\n",
      "       \"node_2\": {\"entity\": \"科\", \"name\": \"红树科\"},\n",
      "       \"relationship\": \"科\"\n",
      "   },\n",
      "   {\n",
      "       \"node_1\": {\"entity\": \"植物\", \"name\": \"红树\"},\n",
      "       \"node_2\": {\"entity\": \"属\", \"name\": \"红树属\"},\n",
      "       \"relationship\": \"属\"\n",
      "   },\n",
      "   {\n",
      "       \"node_1\": {\"entity\": \"植物\", \"name\": \"红树\"},\n",
      "       \"node_2\": {\"entity\": \"滩涂\", \"name\": \"海湾内的沼泽地\"},\n",
      "       \"relationship\": \"生长\"\n",
      "   },\n",
      "   {\n",
      "       \"node_1\": {\"entity\": \"植物\", \"name\": \"红树\"},\n",
      "       \"node_2\": {\"entity\": \"滩涂\", \"name\": \"淤泥松软的浅海盐滩\"},\n",
      "       \"relationship\": \"生长\"\n",
      "   },\n",
      "   {\n",
      "       \"node_1\": {\"entity\": \"植物\", \"name\": \"红树\"},\n",
      "       \"node_2\": {\"entity\": \"群落\", \"name\": \"红树林群落\"},\n",
      "       \"relationship\": \"优势种\"\n",
      "   }\n",
      "]\u001b[39m\n",
      "\u001b[92m\u001b[39m\n",
      "\u001b[94m\u001b[39m\n",
      "\u001b[94m▶︎ KNOWLEDGE GRAPH BUILDER DEBUG - 2024-12-06 10:48:13 - INFO \u001b[39m\n",
      "\u001b[94mExtracted 9 edges with metadata and sequence.\u001b[39m\n",
      "\u001b[94m\u001b[39m\n",
      "\u001b[94m\u001b[39m\n",
      "\u001b[94m▶︎ KNOWLEDGE GRAPH BUILDER DEBUG - 2024-12-06 10:48:13 - INFO \u001b[39m\n",
      "\u001b[94mExtracted graph with 9 edges from 3 documents.\u001b[39m\n",
      "\u001b[94m\u001b[39m\n",
      "\u001b[92m\u001b[39m\n",
      "\u001b[92m▶︎ KNOWLEDGE GRAPH BUILDER LOG - 2024-12-06 10:48:13 - INFO \u001b[39m\n",
      "\u001b[92mProcessing document: 2\u001b[39m\n",
      "\u001b[92m\u001b[39m\n",
      "\u001b[94m\u001b[39m\n",
      "\u001b[94m▶︎ KNOWLEDGE GRAPH BUILDER DEBUG - 2024-12-06 10:48:13 - INFO \u001b[39m\n",
      "\u001b[94mExtracting edges from document with ontology:\n",
      "{'entities': [{'植物': '红树,芦苇,互花米草,碱蓬,盐地碱蓬,盐角草,獐毛,蒲公英,柽柳,稻,丛枝蓼,川蔓藻,刺槐,刺苋,大叶藻,地榆,繁缕,拂子茅,浮萍,甘草,杠柳,狗牙根,构,黑藻,碱茅,金鱼藻,决明,苦草,苦荬菜,荔枝草,木榄,海莲,滨麦，秋英'}, {'水体': '海水, 潮沟, 池塘, 河流, 湖泊, 湿地池, 沼泽'}, {'滩涂': '滩涂,潮滩'}, {'农田': '旱耕地, 水浇地'}, {'湿地': '海滩盐沼'}, {'属': '蓼属,川蔓藻属,稻属'}, {'科': '菊科,泽泻科,苋科,豆科,禾本科,蓼科，川蔓藻科'}, {'界': '植物界'}, {'门': '被子植物门,绿藻门,红藻门'}, {'纲': '木兰纲,双子叶植物纲,单子叶植物纲,木贼纲'}, {'目': '菊目,泽泻目,石竹目,豆目,禾本目'}, {'群落': '草甸,红树林群落,香蒲群落,海草床群落，潮上带群落,潮间带群落，白茅群落,芦苇群落,盐沼群落,棒头草群落,凤眼莲群落,空心莲子草群落,眼子菜群落,酸模叶蓼群落,大薸群落'}], 'relationships': ['邻近', '生长', '界', '门', '纲', '目', '科', '属', '别名', '俗名', '优势种', '伴生种']}\u001b[39m\n",
      "\u001b[94m\u001b[39m\n"
     ]
    },
    {
     "name": "stdout",
     "output_type": "stream",
     "text": [
      "Using LLM Model:  llama3-70b-8192\n"
     ]
    },
    {
     "name": "stderr",
     "output_type": "stream",
     "text": [
      "\u001b[92m\u001b[39m\n",
      "\u001b[92m▶︎ KNOWLEDGE GRAPH BUILDER LOG - 2024-12-06 10:48:19 - INFO \u001b[39m\n",
      "\u001b[92mResponse received, parsing JSON.\u001b[39m\n",
      "\u001b[92m\u001b[39m\n",
      "\u001b[92m\u001b[39m\n",
      "\u001b[92m▶︎ KNOWLEDGE GRAPH BUILDER LOG - 2024-12-06 10:48:19 - INFO \u001b[39m\n",
      "\u001b[92mAttempting to parse JSON: \n",
      "[\n",
      "   {\n",
      "       \"node_1\": {\"entity\": \"植物\", \"name\": \"丛枝蓼\"},\n",
      "       \"node_2\": {\"entity\": \"植物界\", \"name\": \"植物界\"},\n",
      "       \"relationship\": \"界\"\n",
      "   },\n",
      "   {\n",
      "       \"node_1\": {\"entity\": \"植物\", \"name\": \"丛枝蓼\"},\n",
      "       \"node_2\": {\"entity\": \"被子植物门\", \"name\": \"被子植物门\"},\n",
      "       \"relationship\": \"门\"\n",
      "   },\n",
      "   {\n",
      "       \"node_1\": {\"entity\": \"植物\", \"name\": \"丛枝蓼\"},\n",
      "       \"node_2\": {\"entity\": \"木兰纲\", \"name\": \"木兰纲\"},\n",
      "       \"relationship\": \"纲\"\n",
      "   },\n",
      "   {\n",
      "       \"node_1\": {\"entity\": \"植物\", \"name\": \"丛枝蓼\"},\n",
      "       \"node_2\": {\"entity\": \"石竹目\", \"name\": \"石竹目\"},\n",
      "       \"relationship\": \"目\"\n",
      "   },\n",
      "   {\n",
      "       \"node_1\": {\"entity\": \"植物\", \"name\": \"丛枝蓼\"},\n",
      "       \"node_2\": {\"entity\": \"蓼科\", \"name\": \"蓼科\"},\n",
      "       \"relationship\": \"科\"\n",
      "   },\n",
      "   {\n",
      "       \"node_1\": {\"entity\": \"植物\", \"name\": \"丛枝蓼\"},\n",
      "       \"node_2\": {\"entity\": \"蓼属\", \"name\": \"蓼属\"},\n",
      "       \"relationship\": \"属\"\n",
      "   },\n",
      "   {\n",
      "       \"node_1\": {\"entity\": \"植物\", \"name\": \"丛枝蓼\"},\n",
      "       \"node_2\": {\"entity\": \"植物\", \"name\": \"长尾叶蓼\"},\n",
      "       \"relationship\": \"俗名\"\n",
      "   }\n",
      "]\u001b[39m\n",
      "\u001b[92m\u001b[39m\n",
      "\u001b[94m\u001b[39m\n",
      "\u001b[94m▶︎ KNOWLEDGE GRAPH BUILDER DEBUG - 2024-12-06 10:48:19 - INFO \u001b[39m\n",
      "\u001b[94mExtracted 7 edges with metadata and sequence.\u001b[39m\n",
      "\u001b[94m\u001b[39m\n",
      "\u001b[94m\u001b[39m\n",
      "\u001b[94m▶︎ KNOWLEDGE GRAPH BUILDER DEBUG - 2024-12-06 10:48:19 - INFO \u001b[39m\n",
      "\u001b[94mExtracted graph with 16 edges from 3 documents.\u001b[39m\n",
      "\u001b[94m\u001b[39m\n",
      "\u001b[92m\u001b[39m\n",
      "\u001b[92m▶︎ KNOWLEDGE GRAPH BUILDER LOG - 2024-12-06 10:48:19 - INFO \u001b[39m\n",
      "\u001b[92mProcessing document: 3\u001b[39m\n",
      "\u001b[92m\u001b[39m\n",
      "\u001b[94m\u001b[39m\n",
      "\u001b[94m▶︎ KNOWLEDGE GRAPH BUILDER DEBUG - 2024-12-06 10:48:19 - INFO \u001b[39m\n",
      "\u001b[94mExtracting edges from document with ontology:\n",
      "{'entities': [{'植物': '红树,芦苇,互花米草,碱蓬,盐地碱蓬,盐角草,獐毛,蒲公英,柽柳,稻,丛枝蓼,川蔓藻,刺槐,刺苋,大叶藻,地榆,繁缕,拂子茅,浮萍,甘草,杠柳,狗牙根,构,黑藻,碱茅,金鱼藻,决明,苦草,苦荬菜,荔枝草,木榄,海莲,滨麦，秋英'}, {'水体': '海水, 潮沟, 池塘, 河流, 湖泊, 湿地池, 沼泽'}, {'滩涂': '滩涂,潮滩'}, {'农田': '旱耕地, 水浇地'}, {'湿地': '海滩盐沼'}, {'属': '蓼属,川蔓藻属,稻属'}, {'科': '菊科,泽泻科,苋科,豆科,禾本科,蓼科，川蔓藻科'}, {'界': '植物界'}, {'门': '被子植物门,绿藻门,红藻门'}, {'纲': '木兰纲,双子叶植物纲,单子叶植物纲,木贼纲'}, {'目': '菊目,泽泻目,石竹目,豆目,禾本目'}, {'群落': '草甸,红树林群落,香蒲群落,海草床群落，潮上带群落,潮间带群落，白茅群落,芦苇群落,盐沼群落,棒头草群落,凤眼莲群落,空心莲子草群落,眼子菜群落,酸模叶蓼群落,大薸群落'}], 'relationships': ['邻近', '生长', '界', '门', '纲', '目', '科', '属', '别名', '俗名', '优势种', '伴生种']}\u001b[39m\n",
      "\u001b[94m\u001b[39m\n"
     ]
    },
    {
     "name": "stdout",
     "output_type": "stream",
     "text": [
      "Using LLM Model:  llama3-70b-8192\n"
     ]
    },
    {
     "ename": "KeyboardInterrupt",
     "evalue": "",
     "output_type": "error",
     "traceback": [
      "\u001b[1;31m---------------------------------------------------------------------------\u001b[0m",
      "\u001b[1;31mKeyboardInterrupt\u001b[0m                         Traceback (most recent call last)",
      "Cell \u001b[1;32mIn[6], line 23\u001b[0m\n\u001b[0;32m     20\u001b[0m     user_text \u001b[38;5;241m=\u001b[39m [\u001b[38;5;124m\"\u001b[39m\u001b[38;5;130;01m\\n\u001b[39;00m\u001b[38;5;124m\"\u001b[39m \u001b[38;5;241m+\u001b[39m line\u001b[38;5;241m.\u001b[39mstrip() \u001b[38;5;241m+\u001b[39m \u001b[38;5;124m\"\u001b[39m\u001b[38;5;130;01m\\n\u001b[39;00m\u001b[38;5;124m\"\u001b[39m \u001b[38;5;28;01mfor\u001b[39;00m line \u001b[38;5;129;01min\u001b[39;00m lines \u001b[38;5;28;01mif\u001b[39;00m line\u001b[38;5;241m.\u001b[39mstrip()]\n\u001b[0;32m     22\u001b[0m docs \u001b[38;5;241m=\u001b[39m ERKGBuilder\u001b[38;5;241m.\u001b[39mcreate_docs(user_text)\n\u001b[1;32m---> 23\u001b[0m ERKnowledgeGraph \u001b[38;5;241m=\u001b[39m ERKGBuilder\u001b[38;5;241m.\u001b[39mdocuments_to_graph(\u001b[38;5;28mlist\u001b[39m(docs), delay\u001b[38;5;241m=\u001b[39m\u001b[38;5;241m0\u001b[39m)\n\u001b[0;32m     25\u001b[0m \u001b[38;5;66;03m# Export entity relationship triples to Excel\u001b[39;00m\n\u001b[0;32m     26\u001b[0m excel_filename \u001b[38;5;241m=\u001b[39m os\u001b[38;5;241m.\u001b[39mpath\u001b[38;5;241m.\u001b[39msplitext(filename)[\u001b[38;5;241m0\u001b[39m]  \n",
      "File \u001b[1;32mg:\\anaconda\\anaconda3\\envs\\graph\\Lib\\site-packages\\knowledge_graph_builder\\KGBuilder.py:187\u001b[0m, in \u001b[0;36mKnowledgeGraphBuilder.documents_to_graph\u001b[1;34m(self, docs, sequence_key, delay)\u001b[0m\n\u001b[0;32m    185\u001b[0m sequence \u001b[38;5;241m=\u001b[39m \u001b[38;5;28mgetattr\u001b[39m(doc, sequence_key) \u001b[38;5;28;01mif\u001b[39;00m sequence_key \u001b[38;5;28;01melse\u001b[39;00m index\n\u001b[0;32m    186\u001b[0m \u001b[38;5;28mself\u001b[39m\u001b[38;5;241m.\u001b[39mlog(\u001b[38;5;124m\"\u001b[39m\u001b[38;5;124mINFO\u001b[39m\u001b[38;5;124m\"\u001b[39m, \u001b[38;5;124mf\u001b[39m\u001b[38;5;124m\"\u001b[39m\u001b[38;5;124mProcessing document: \u001b[39m\u001b[38;5;132;01m{\u001b[39;00mindex\u001b[38;5;241m+\u001b[39m\u001b[38;5;241m1\u001b[39m\u001b[38;5;132;01m}\u001b[39;00m\u001b[38;5;124m\"\u001b[39m)\n\u001b[1;32m--> 187\u001b[0m subgraph \u001b[38;5;241m=\u001b[39m \u001b[38;5;28mself\u001b[39m\u001b[38;5;241m.\u001b[39mdocument_to_subgraph(doc, sequence)\n\u001b[0;32m    188\u001b[0m graph\u001b[38;5;241m.\u001b[39mextend(subgraph)\n\u001b[0;32m    189\u001b[0m \u001b[38;5;28;01mif\u001b[39;00m delay \u001b[38;5;241m>\u001b[39m \u001b[38;5;241m0\u001b[39m:\n",
      "File \u001b[1;32mg:\\anaconda\\anaconda3\\envs\\graph\\Lib\\site-packages\\knowledge_graph_builder\\KGBuilder.py:168\u001b[0m, in \u001b[0;36mKnowledgeGraphBuilder.document_to_subgraph\u001b[1;34m(self, doc, sequence)\u001b[0m\n\u001b[0;32m    166\u001b[0m \u001b[38;5;28;01mdef\u001b[39;00m \u001b[38;5;21mdocument_to_subgraph\u001b[39m(\u001b[38;5;28mself\u001b[39m, doc: Document, sequence: Union[\u001b[38;5;28mint\u001b[39m, \u001b[38;5;28;01mNone\u001b[39;00m] \u001b[38;5;241m=\u001b[39m \u001b[38;5;28;01mNone\u001b[39;00m) \u001b[38;5;241m-\u001b[39m\u001b[38;5;241m>\u001b[39m List[Union[EAEdge, EREdge]]:\n\u001b[0;32m    167\u001b[0m     \u001b[38;5;28mself\u001b[39m\u001b[38;5;241m.\u001b[39mlog(\u001b[38;5;124m\"\u001b[39m\u001b[38;5;124mDEBUG\u001b[39m\u001b[38;5;124m\"\u001b[39m, \u001b[38;5;124mf\u001b[39m\u001b[38;5;124m\"\u001b[39m\u001b[38;5;124mExtracting edges from document with ontology:\u001b[39m\u001b[38;5;130;01m\\n\u001b[39;00m\u001b[38;5;132;01m{\u001b[39;00m\u001b[38;5;28mself\u001b[39m\u001b[38;5;241m.\u001b[39montology\u001b[38;5;241m.\u001b[39mdump()\u001b[38;5;132;01m}\u001b[39;00m\u001b[38;5;124m\"\u001b[39m)\n\u001b[1;32m--> 168\u001b[0m     edges \u001b[38;5;241m=\u001b[39m \u001b[38;5;28mself\u001b[39m\u001b[38;5;241m.\u001b[39mtext_to_edges(doc\u001b[38;5;241m.\u001b[39mtext)\n\u001b[0;32m    169\u001b[0m     \u001b[38;5;28;01mfor\u001b[39;00m edge \u001b[38;5;129;01min\u001b[39;00m edges:\n\u001b[0;32m    170\u001b[0m         \u001b[38;5;28;01mif\u001b[39;00m edge:\n",
      "File \u001b[1;32mg:\\anaconda\\anaconda3\\envs\\graph\\Lib\\site-packages\\knowledge_graph_builder\\KGBuilder.py:155\u001b[0m, in \u001b[0;36mKnowledgeGraphBuilder.text_to_edges\u001b[1;34m(self, user_text)\u001b[0m\n\u001b[0;32m    154\u001b[0m \u001b[38;5;28;01mdef\u001b[39;00m \u001b[38;5;21mtext_to_edges\u001b[39m(\u001b[38;5;28mself\u001b[39m, user_text: \u001b[38;5;28mstr\u001b[39m):\n\u001b[1;32m--> 155\u001b[0m     response_text \u001b[38;5;241m=\u001b[39m \u001b[38;5;28mself\u001b[39m\u001b[38;5;241m.\u001b[39mgenerate_responses(user_text)\n\u001b[0;32m    156\u001b[0m     \u001b[38;5;28;01mif\u001b[39;00m \u001b[38;5;129;01mnot\u001b[39;00m response_text:\n\u001b[0;32m    157\u001b[0m         \u001b[38;5;28mself\u001b[39m\u001b[38;5;241m.\u001b[39mlog(\u001b[38;5;124m\"\u001b[39m\u001b[38;5;124mERROR\u001b[39m\u001b[38;5;124m\"\u001b[39m, \u001b[38;5;124m\"\u001b[39m\u001b[38;5;124mEmpty response from Knowledge Graph Builder\u001b[39m\u001b[38;5;124m\"\u001b[39m)\n",
      "File \u001b[1;32mg:\\anaconda\\anaconda3\\envs\\graph\\Lib\\site-packages\\knowledge_graph_builder\\KGBuilder.py:82\u001b[0m, in \u001b[0;36mKnowledgeGraphBuilder.generate_responses\u001b[1;34m(self, user_text)\u001b[0m\n\u001b[0;32m     81\u001b[0m \u001b[38;5;28;01mdef\u001b[39;00m \u001b[38;5;21mgenerate_responses\u001b[39m(\u001b[38;5;28mself\u001b[39m, user_text: \u001b[38;5;28mstr\u001b[39m) \u001b[38;5;241m-\u001b[39m\u001b[38;5;241m>\u001b[39m \u001b[38;5;28mstr\u001b[39m:\n\u001b[1;32m---> 82\u001b[0m     \u001b[38;5;28;01mreturn\u001b[39;00m \u001b[38;5;28mself\u001b[39m\u001b[38;5;241m.\u001b[39mllm_client\u001b[38;5;241m.\u001b[39mgenerate_response(\n\u001b[0;32m     83\u001b[0m         user_message\u001b[38;5;241m=\u001b[39m\u001b[38;5;28mself\u001b[39m\u001b[38;5;241m.\u001b[39mformat_user_input(user_text),\n\u001b[0;32m     84\u001b[0m         system_message\u001b[38;5;241m=\u001b[39m\u001b[38;5;28mself\u001b[39m\u001b[38;5;241m.\u001b[39mformat_prompt(),\n\u001b[0;32m     85\u001b[0m     )\n",
      "File \u001b[1;32mg:\\anaconda\\anaconda3\\envs\\graph\\Lib\\site-packages\\knowledge_graph_builder\\llm_clients\\groq_client.py:26\u001b[0m, in \u001b[0;36mGroqClient.generate_response\u001b[1;34m(self, user_message, system_message)\u001b[0m\n\u001b[0;32m     24\u001b[0m \u001b[38;5;28;01mif\u001b[39;00m \u001b[38;5;129;01mnot\u001b[39;00m \u001b[38;5;28mself\u001b[39m\u001b[38;5;241m.\u001b[39m_client:\n\u001b[0;32m     25\u001b[0m     \u001b[38;5;28mprint\u001b[39m(\u001b[38;5;124m\"\u001b[39m\u001b[38;5;124mCannot use a client without API_KEY\u001b[39m\u001b[38;5;124m\"\u001b[39m)\n\u001b[1;32m---> 26\u001b[0m result \u001b[38;5;241m=\u001b[39m \u001b[38;5;28mself\u001b[39m\u001b[38;5;241m.\u001b[39m_client\u001b[38;5;241m.\u001b[39mchat\u001b[38;5;241m.\u001b[39mcompletions\u001b[38;5;241m.\u001b[39mcreate(\n\u001b[0;32m     27\u001b[0m     messages\u001b[38;5;241m=\u001b[39m[\n\u001b[0;32m     28\u001b[0m         {\u001b[38;5;124m\"\u001b[39m\u001b[38;5;124mrole\u001b[39m\u001b[38;5;124m\"\u001b[39m: \u001b[38;5;124m\"\u001b[39m\u001b[38;5;124msystem\u001b[39m\u001b[38;5;124m\"\u001b[39m, \u001b[38;5;124m\"\u001b[39m\u001b[38;5;124mcontent\u001b[39m\u001b[38;5;124m\"\u001b[39m: system_message},\n\u001b[0;32m     29\u001b[0m         {\n\u001b[0;32m     30\u001b[0m             \u001b[38;5;124m\"\u001b[39m\u001b[38;5;124mrole\u001b[39m\u001b[38;5;124m\"\u001b[39m: \u001b[38;5;124m\"\u001b[39m\u001b[38;5;124muser\u001b[39m\u001b[38;5;124m\"\u001b[39m,\n\u001b[0;32m     31\u001b[0m             \u001b[38;5;124m\"\u001b[39m\u001b[38;5;124mcontent\u001b[39m\u001b[38;5;124m\"\u001b[39m: user_message,\n\u001b[0;32m     32\u001b[0m         },\n\u001b[0;32m     33\u001b[0m     ],\n\u001b[0;32m     34\u001b[0m     \u001b[38;5;66;03m# The language model which will generate the completion.\u001b[39;00m\n\u001b[0;32m     35\u001b[0m     model\u001b[38;5;241m=\u001b[39m\u001b[38;5;28mself\u001b[39m\u001b[38;5;241m.\u001b[39m_model,\n\u001b[0;32m     36\u001b[0m     \u001b[38;5;66;03m#\u001b[39;00m\n\u001b[0;32m     37\u001b[0m     \u001b[38;5;66;03m# Optional parameters\u001b[39;00m\n\u001b[0;32m     38\u001b[0m     \u001b[38;5;66;03m#\u001b[39;00m\n\u001b[0;32m     39\u001b[0m     temperature\u001b[38;5;241m=\u001b[39m\u001b[38;5;28mself\u001b[39m\u001b[38;5;241m.\u001b[39m_temperature,\n\u001b[0;32m     40\u001b[0m     \u001b[38;5;66;03m# The maximum number of tokens to generate. Requests can use up to\u001b[39;00m\n\u001b[0;32m     41\u001b[0m     \u001b[38;5;66;03m# 2048 tokens shared between prompt and completion.\u001b[39;00m\n\u001b[0;32m     42\u001b[0m     \u001b[38;5;66;03m# max_tokens=2084,\u001b[39;00m\n\u001b[0;32m     43\u001b[0m     \u001b[38;5;66;03m# Controls diversity via nucleus sampling: 0.5 means half of all\u001b[39;00m\n\u001b[0;32m     44\u001b[0m     \u001b[38;5;66;03m# likelihood-weighted options are considered.\u001b[39;00m\n\u001b[0;32m     45\u001b[0m     top_p\u001b[38;5;241m=\u001b[39m\u001b[38;5;28mself\u001b[39m\u001b[38;5;241m.\u001b[39m_top_p,\n\u001b[0;32m     46\u001b[0m     \u001b[38;5;66;03m# A stop sequence is a predefined or user-specified text string that\u001b[39;00m\n\u001b[0;32m     47\u001b[0m     \u001b[38;5;66;03m# signals an AI to stop generating content, ensuring its responses\u001b[39;00m\n\u001b[0;32m     48\u001b[0m     \u001b[38;5;66;03m# remain focused and concise. Examples include punctuation marks and\u001b[39;00m\n\u001b[0;32m     49\u001b[0m     \u001b[38;5;66;03m# markers like \"[end]\".\u001b[39;00m\n\u001b[0;32m     50\u001b[0m     stop\u001b[38;5;241m=\u001b[39m\u001b[38;5;28;01mNone\u001b[39;00m,\n\u001b[0;32m     51\u001b[0m     \u001b[38;5;66;03m# If set, partial message deltas will be sent.\u001b[39;00m\n\u001b[0;32m     52\u001b[0m     stream\u001b[38;5;241m=\u001b[39m\u001b[38;5;28;01mFalse\u001b[39;00m,\n\u001b[0;32m     53\u001b[0m )\n\u001b[0;32m     55\u001b[0m \u001b[38;5;28;01mreturn\u001b[39;00m result\u001b[38;5;241m.\u001b[39mchoices[\u001b[38;5;241m0\u001b[39m]\u001b[38;5;241m.\u001b[39mmessage\u001b[38;5;241m.\u001b[39mcontent\n",
      "File \u001b[1;32mg:\\anaconda\\anaconda3\\envs\\graph\\Lib\\site-packages\\groq\\resources\\chat\\completions.py:179\u001b[0m, in \u001b[0;36mCompletions.create\u001b[1;34m(self, messages, model, frequency_penalty, logit_bias, logprobs, max_tokens, n, presence_penalty, response_format, seed, stop, stream, temperature, tool_choice, tools, top_logprobs, top_p, user, extra_headers, extra_query, extra_body, timeout)\u001b[0m\n\u001b[0;32m    136\u001b[0m \u001b[38;5;28;01mdef\u001b[39;00m \u001b[38;5;21mcreate\u001b[39m(\n\u001b[0;32m    137\u001b[0m     \u001b[38;5;28mself\u001b[39m,\n\u001b[0;32m    138\u001b[0m     \u001b[38;5;241m*\u001b[39m,\n\u001b[1;32m   (...)\u001b[0m\n\u001b[0;32m    162\u001b[0m     timeout: \u001b[38;5;28mfloat\u001b[39m \u001b[38;5;241m|\u001b[39m httpx\u001b[38;5;241m.\u001b[39mTimeout \u001b[38;5;241m|\u001b[39m \u001b[38;5;28;01mNone\u001b[39;00m \u001b[38;5;241m|\u001b[39m NotGiven \u001b[38;5;241m=\u001b[39m NOT_GIVEN,\n\u001b[0;32m    163\u001b[0m ) \u001b[38;5;241m-\u001b[39m\u001b[38;5;241m>\u001b[39m ChatCompletion \u001b[38;5;241m|\u001b[39m Stream[ChatCompletionChunk]:\n\u001b[0;32m    164\u001b[0m \u001b[38;5;250m    \u001b[39m\u001b[38;5;124;03m\"\"\"\u001b[39;00m\n\u001b[0;32m    165\u001b[0m \u001b[38;5;124;03m    Creates a completion for a chat prompt\u001b[39;00m\n\u001b[0;32m    166\u001b[0m \n\u001b[1;32m   (...)\u001b[0m\n\u001b[0;32m    177\u001b[0m \u001b[38;5;124;03m      timeout: Override the client-level default timeout for this request, in seconds\u001b[39;00m\n\u001b[0;32m    178\u001b[0m \u001b[38;5;124;03m    \"\"\"\u001b[39;00m\n\u001b[1;32m--> 179\u001b[0m     \u001b[38;5;28;01mreturn\u001b[39;00m \u001b[38;5;28mself\u001b[39m\u001b[38;5;241m.\u001b[39m_post(\n\u001b[0;32m    180\u001b[0m         \u001b[38;5;124m\"\u001b[39m\u001b[38;5;124m/openai/v1/chat/completions\u001b[39m\u001b[38;5;124m\"\u001b[39m,\n\u001b[0;32m    181\u001b[0m         body\u001b[38;5;241m=\u001b[39mmaybe_transform(\n\u001b[0;32m    182\u001b[0m             {\n\u001b[0;32m    183\u001b[0m                 \u001b[38;5;124m\"\u001b[39m\u001b[38;5;124mmessages\u001b[39m\u001b[38;5;124m\"\u001b[39m: messages,\n\u001b[0;32m    184\u001b[0m                 \u001b[38;5;124m\"\u001b[39m\u001b[38;5;124mmodel\u001b[39m\u001b[38;5;124m\"\u001b[39m: model,\n\u001b[0;32m    185\u001b[0m                 \u001b[38;5;124m\"\u001b[39m\u001b[38;5;124mfrequency_penalty\u001b[39m\u001b[38;5;124m\"\u001b[39m: frequency_penalty,\n\u001b[0;32m    186\u001b[0m                 \u001b[38;5;124m\"\u001b[39m\u001b[38;5;124mlogit_bias\u001b[39m\u001b[38;5;124m\"\u001b[39m: logit_bias,\n\u001b[0;32m    187\u001b[0m                 \u001b[38;5;124m\"\u001b[39m\u001b[38;5;124mlogprobs\u001b[39m\u001b[38;5;124m\"\u001b[39m: logprobs,\n\u001b[0;32m    188\u001b[0m                 \u001b[38;5;124m\"\u001b[39m\u001b[38;5;124mmax_tokens\u001b[39m\u001b[38;5;124m\"\u001b[39m: max_tokens,\n\u001b[0;32m    189\u001b[0m                 \u001b[38;5;124m\"\u001b[39m\u001b[38;5;124mn\u001b[39m\u001b[38;5;124m\"\u001b[39m: n,\n\u001b[0;32m    190\u001b[0m                 \u001b[38;5;124m\"\u001b[39m\u001b[38;5;124mpresence_penalty\u001b[39m\u001b[38;5;124m\"\u001b[39m: presence_penalty,\n\u001b[0;32m    191\u001b[0m                 \u001b[38;5;124m\"\u001b[39m\u001b[38;5;124mresponse_format\u001b[39m\u001b[38;5;124m\"\u001b[39m: response_format,\n\u001b[0;32m    192\u001b[0m                 \u001b[38;5;124m\"\u001b[39m\u001b[38;5;124mseed\u001b[39m\u001b[38;5;124m\"\u001b[39m: seed,\n\u001b[0;32m    193\u001b[0m                 \u001b[38;5;124m\"\u001b[39m\u001b[38;5;124mstop\u001b[39m\u001b[38;5;124m\"\u001b[39m: stop,\n\u001b[0;32m    194\u001b[0m                 \u001b[38;5;124m\"\u001b[39m\u001b[38;5;124mstream\u001b[39m\u001b[38;5;124m\"\u001b[39m: stream,\n\u001b[0;32m    195\u001b[0m                 \u001b[38;5;124m\"\u001b[39m\u001b[38;5;124mtemperature\u001b[39m\u001b[38;5;124m\"\u001b[39m: temperature,\n\u001b[0;32m    196\u001b[0m                 \u001b[38;5;124m\"\u001b[39m\u001b[38;5;124mtool_choice\u001b[39m\u001b[38;5;124m\"\u001b[39m: tool_choice,\n\u001b[0;32m    197\u001b[0m                 \u001b[38;5;124m\"\u001b[39m\u001b[38;5;124mtools\u001b[39m\u001b[38;5;124m\"\u001b[39m: tools,\n\u001b[0;32m    198\u001b[0m                 \u001b[38;5;124m\"\u001b[39m\u001b[38;5;124mtop_logprobs\u001b[39m\u001b[38;5;124m\"\u001b[39m: top_logprobs,\n\u001b[0;32m    199\u001b[0m                 \u001b[38;5;124m\"\u001b[39m\u001b[38;5;124mtop_p\u001b[39m\u001b[38;5;124m\"\u001b[39m: top_p,\n\u001b[0;32m    200\u001b[0m                 \u001b[38;5;124m\"\u001b[39m\u001b[38;5;124muser\u001b[39m\u001b[38;5;124m\"\u001b[39m: user,\n\u001b[0;32m    201\u001b[0m             },\n\u001b[0;32m    202\u001b[0m             completion_create_params\u001b[38;5;241m.\u001b[39mCompletionCreateParams,\n\u001b[0;32m    203\u001b[0m         ),\n\u001b[0;32m    204\u001b[0m         options\u001b[38;5;241m=\u001b[39mmake_request_options(\n\u001b[0;32m    205\u001b[0m             extra_headers\u001b[38;5;241m=\u001b[39mextra_headers, extra_query\u001b[38;5;241m=\u001b[39mextra_query, extra_body\u001b[38;5;241m=\u001b[39mextra_body, timeout\u001b[38;5;241m=\u001b[39mtimeout\n\u001b[0;32m    206\u001b[0m         ),\n\u001b[0;32m    207\u001b[0m         cast_to\u001b[38;5;241m=\u001b[39mChatCompletion,\n\u001b[0;32m    208\u001b[0m         stream\u001b[38;5;241m=\u001b[39mstream \u001b[38;5;129;01mor\u001b[39;00m \u001b[38;5;28;01mFalse\u001b[39;00m,\n\u001b[0;32m    209\u001b[0m         stream_cls\u001b[38;5;241m=\u001b[39mStream[ChatCompletionChunk],\n\u001b[0;32m    210\u001b[0m     )\n",
      "File \u001b[1;32mg:\\anaconda\\anaconda3\\envs\\graph\\Lib\\site-packages\\groq\\_base_client.py:1225\u001b[0m, in \u001b[0;36mSyncAPIClient.post\u001b[1;34m(self, path, cast_to, body, options, files, stream, stream_cls)\u001b[0m\n\u001b[0;32m   1211\u001b[0m \u001b[38;5;28;01mdef\u001b[39;00m \u001b[38;5;21mpost\u001b[39m(\n\u001b[0;32m   1212\u001b[0m     \u001b[38;5;28mself\u001b[39m,\n\u001b[0;32m   1213\u001b[0m     path: \u001b[38;5;28mstr\u001b[39m,\n\u001b[1;32m   (...)\u001b[0m\n\u001b[0;32m   1220\u001b[0m     stream_cls: \u001b[38;5;28mtype\u001b[39m[_StreamT] \u001b[38;5;241m|\u001b[39m \u001b[38;5;28;01mNone\u001b[39;00m \u001b[38;5;241m=\u001b[39m \u001b[38;5;28;01mNone\u001b[39;00m,\n\u001b[0;32m   1221\u001b[0m ) \u001b[38;5;241m-\u001b[39m\u001b[38;5;241m>\u001b[39m ResponseT \u001b[38;5;241m|\u001b[39m _StreamT:\n\u001b[0;32m   1222\u001b[0m     opts \u001b[38;5;241m=\u001b[39m FinalRequestOptions\u001b[38;5;241m.\u001b[39mconstruct(\n\u001b[0;32m   1223\u001b[0m         method\u001b[38;5;241m=\u001b[39m\u001b[38;5;124m\"\u001b[39m\u001b[38;5;124mpost\u001b[39m\u001b[38;5;124m\"\u001b[39m, url\u001b[38;5;241m=\u001b[39mpath, json_data\u001b[38;5;241m=\u001b[39mbody, files\u001b[38;5;241m=\u001b[39mto_httpx_files(files), \u001b[38;5;241m*\u001b[39m\u001b[38;5;241m*\u001b[39moptions\n\u001b[0;32m   1224\u001b[0m     )\n\u001b[1;32m-> 1225\u001b[0m     \u001b[38;5;28;01mreturn\u001b[39;00m cast(ResponseT, \u001b[38;5;28mself\u001b[39m\u001b[38;5;241m.\u001b[39mrequest(cast_to, opts, stream\u001b[38;5;241m=\u001b[39mstream, stream_cls\u001b[38;5;241m=\u001b[39mstream_cls))\n",
      "File \u001b[1;32mg:\\anaconda\\anaconda3\\envs\\graph\\Lib\\site-packages\\groq\\_base_client.py:920\u001b[0m, in \u001b[0;36mSyncAPIClient.request\u001b[1;34m(self, cast_to, options, remaining_retries, stream, stream_cls)\u001b[0m\n\u001b[0;32m    911\u001b[0m \u001b[38;5;28;01mdef\u001b[39;00m \u001b[38;5;21mrequest\u001b[39m(\n\u001b[0;32m    912\u001b[0m     \u001b[38;5;28mself\u001b[39m,\n\u001b[0;32m    913\u001b[0m     cast_to: Type[ResponseT],\n\u001b[1;32m   (...)\u001b[0m\n\u001b[0;32m    918\u001b[0m     stream_cls: \u001b[38;5;28mtype\u001b[39m[_StreamT] \u001b[38;5;241m|\u001b[39m \u001b[38;5;28;01mNone\u001b[39;00m \u001b[38;5;241m=\u001b[39m \u001b[38;5;28;01mNone\u001b[39;00m,\n\u001b[0;32m    919\u001b[0m ) \u001b[38;5;241m-\u001b[39m\u001b[38;5;241m>\u001b[39m ResponseT \u001b[38;5;241m|\u001b[39m _StreamT:\n\u001b[1;32m--> 920\u001b[0m     \u001b[38;5;28;01mreturn\u001b[39;00m \u001b[38;5;28mself\u001b[39m\u001b[38;5;241m.\u001b[39m_request(\n\u001b[0;32m    921\u001b[0m         cast_to\u001b[38;5;241m=\u001b[39mcast_to,\n\u001b[0;32m    922\u001b[0m         options\u001b[38;5;241m=\u001b[39moptions,\n\u001b[0;32m    923\u001b[0m         stream\u001b[38;5;241m=\u001b[39mstream,\n\u001b[0;32m    924\u001b[0m         stream_cls\u001b[38;5;241m=\u001b[39mstream_cls,\n\u001b[0;32m    925\u001b[0m         remaining_retries\u001b[38;5;241m=\u001b[39mremaining_retries,\n\u001b[0;32m    926\u001b[0m     )\n",
      "File \u001b[1;32mg:\\anaconda\\anaconda3\\envs\\graph\\Lib\\site-packages\\groq\\_base_client.py:951\u001b[0m, in \u001b[0;36mSyncAPIClient._request\u001b[1;34m(self, cast_to, options, remaining_retries, stream, stream_cls)\u001b[0m\n\u001b[0;32m    948\u001b[0m log\u001b[38;5;241m.\u001b[39mdebug(\u001b[38;5;124m\"\u001b[39m\u001b[38;5;124mSending HTTP Request: \u001b[39m\u001b[38;5;132;01m%s\u001b[39;00m\u001b[38;5;124m \u001b[39m\u001b[38;5;132;01m%s\u001b[39;00m\u001b[38;5;124m\"\u001b[39m, request\u001b[38;5;241m.\u001b[39mmethod, request\u001b[38;5;241m.\u001b[39murl)\n\u001b[0;32m    950\u001b[0m \u001b[38;5;28;01mtry\u001b[39;00m:\n\u001b[1;32m--> 951\u001b[0m     response \u001b[38;5;241m=\u001b[39m \u001b[38;5;28mself\u001b[39m\u001b[38;5;241m.\u001b[39m_client\u001b[38;5;241m.\u001b[39msend(\n\u001b[0;32m    952\u001b[0m         request,\n\u001b[0;32m    953\u001b[0m         stream\u001b[38;5;241m=\u001b[39mstream \u001b[38;5;129;01mor\u001b[39;00m \u001b[38;5;28mself\u001b[39m\u001b[38;5;241m.\u001b[39m_should_stream_response_body(request\u001b[38;5;241m=\u001b[39mrequest),\n\u001b[0;32m    954\u001b[0m         \u001b[38;5;241m*\u001b[39m\u001b[38;5;241m*\u001b[39mkwargs,\n\u001b[0;32m    955\u001b[0m     )\n\u001b[0;32m    956\u001b[0m \u001b[38;5;28;01mexcept\u001b[39;00m httpx\u001b[38;5;241m.\u001b[39mTimeoutException \u001b[38;5;28;01mas\u001b[39;00m err:\n\u001b[0;32m    957\u001b[0m     log\u001b[38;5;241m.\u001b[39mdebug(\u001b[38;5;124m\"\u001b[39m\u001b[38;5;124mEncountered httpx.TimeoutException\u001b[39m\u001b[38;5;124m\"\u001b[39m, exc_info\u001b[38;5;241m=\u001b[39m\u001b[38;5;28;01mTrue\u001b[39;00m)\n",
      "File \u001b[1;32mg:\\anaconda\\anaconda3\\envs\\graph\\Lib\\site-packages\\httpx\\_client.py:926\u001b[0m, in \u001b[0;36mClient.send\u001b[1;34m(self, request, stream, auth, follow_redirects)\u001b[0m\n\u001b[0;32m    922\u001b[0m \u001b[38;5;28mself\u001b[39m\u001b[38;5;241m.\u001b[39m_set_timeout(request)\n\u001b[0;32m    924\u001b[0m auth \u001b[38;5;241m=\u001b[39m \u001b[38;5;28mself\u001b[39m\u001b[38;5;241m.\u001b[39m_build_request_auth(request, auth)\n\u001b[1;32m--> 926\u001b[0m response \u001b[38;5;241m=\u001b[39m \u001b[38;5;28mself\u001b[39m\u001b[38;5;241m.\u001b[39m_send_handling_auth(\n\u001b[0;32m    927\u001b[0m     request,\n\u001b[0;32m    928\u001b[0m     auth\u001b[38;5;241m=\u001b[39mauth,\n\u001b[0;32m    929\u001b[0m     follow_redirects\u001b[38;5;241m=\u001b[39mfollow_redirects,\n\u001b[0;32m    930\u001b[0m     history\u001b[38;5;241m=\u001b[39m[],\n\u001b[0;32m    931\u001b[0m )\n\u001b[0;32m    932\u001b[0m \u001b[38;5;28;01mtry\u001b[39;00m:\n\u001b[0;32m    933\u001b[0m     \u001b[38;5;28;01mif\u001b[39;00m \u001b[38;5;129;01mnot\u001b[39;00m stream:\n",
      "File \u001b[1;32mg:\\anaconda\\anaconda3\\envs\\graph\\Lib\\site-packages\\httpx\\_client.py:954\u001b[0m, in \u001b[0;36mClient._send_handling_auth\u001b[1;34m(self, request, auth, follow_redirects, history)\u001b[0m\n\u001b[0;32m    951\u001b[0m request \u001b[38;5;241m=\u001b[39m \u001b[38;5;28mnext\u001b[39m(auth_flow)\n\u001b[0;32m    953\u001b[0m \u001b[38;5;28;01mwhile\u001b[39;00m \u001b[38;5;28;01mTrue\u001b[39;00m:\n\u001b[1;32m--> 954\u001b[0m     response \u001b[38;5;241m=\u001b[39m \u001b[38;5;28mself\u001b[39m\u001b[38;5;241m.\u001b[39m_send_handling_redirects(\n\u001b[0;32m    955\u001b[0m         request,\n\u001b[0;32m    956\u001b[0m         follow_redirects\u001b[38;5;241m=\u001b[39mfollow_redirects,\n\u001b[0;32m    957\u001b[0m         history\u001b[38;5;241m=\u001b[39mhistory,\n\u001b[0;32m    958\u001b[0m     )\n\u001b[0;32m    959\u001b[0m     \u001b[38;5;28;01mtry\u001b[39;00m:\n\u001b[0;32m    960\u001b[0m         \u001b[38;5;28;01mtry\u001b[39;00m:\n",
      "File \u001b[1;32mg:\\anaconda\\anaconda3\\envs\\graph\\Lib\\site-packages\\httpx\\_client.py:991\u001b[0m, in \u001b[0;36mClient._send_handling_redirects\u001b[1;34m(self, request, follow_redirects, history)\u001b[0m\n\u001b[0;32m    988\u001b[0m \u001b[38;5;28;01mfor\u001b[39;00m hook \u001b[38;5;129;01min\u001b[39;00m \u001b[38;5;28mself\u001b[39m\u001b[38;5;241m.\u001b[39m_event_hooks[\u001b[38;5;124m\"\u001b[39m\u001b[38;5;124mrequest\u001b[39m\u001b[38;5;124m\"\u001b[39m]:\n\u001b[0;32m    989\u001b[0m     hook(request)\n\u001b[1;32m--> 991\u001b[0m response \u001b[38;5;241m=\u001b[39m \u001b[38;5;28mself\u001b[39m\u001b[38;5;241m.\u001b[39m_send_single_request(request)\n\u001b[0;32m    992\u001b[0m \u001b[38;5;28;01mtry\u001b[39;00m:\n\u001b[0;32m    993\u001b[0m     \u001b[38;5;28;01mfor\u001b[39;00m hook \u001b[38;5;129;01min\u001b[39;00m \u001b[38;5;28mself\u001b[39m\u001b[38;5;241m.\u001b[39m_event_hooks[\u001b[38;5;124m\"\u001b[39m\u001b[38;5;124mresponse\u001b[39m\u001b[38;5;124m\"\u001b[39m]:\n",
      "File \u001b[1;32mg:\\anaconda\\anaconda3\\envs\\graph\\Lib\\site-packages\\httpx\\_client.py:1027\u001b[0m, in \u001b[0;36mClient._send_single_request\u001b[1;34m(self, request)\u001b[0m\n\u001b[0;32m   1022\u001b[0m     \u001b[38;5;28;01mraise\u001b[39;00m \u001b[38;5;167;01mRuntimeError\u001b[39;00m(\n\u001b[0;32m   1023\u001b[0m         \u001b[38;5;124m\"\u001b[39m\u001b[38;5;124mAttempted to send an async request with a sync Client instance.\u001b[39m\u001b[38;5;124m\"\u001b[39m\n\u001b[0;32m   1024\u001b[0m     )\n\u001b[0;32m   1026\u001b[0m \u001b[38;5;28;01mwith\u001b[39;00m request_context(request\u001b[38;5;241m=\u001b[39mrequest):\n\u001b[1;32m-> 1027\u001b[0m     response \u001b[38;5;241m=\u001b[39m transport\u001b[38;5;241m.\u001b[39mhandle_request(request)\n\u001b[0;32m   1029\u001b[0m \u001b[38;5;28;01massert\u001b[39;00m \u001b[38;5;28misinstance\u001b[39m(response\u001b[38;5;241m.\u001b[39mstream, SyncByteStream)\n\u001b[0;32m   1031\u001b[0m response\u001b[38;5;241m.\u001b[39mrequest \u001b[38;5;241m=\u001b[39m request\n",
      "File \u001b[1;32mg:\\anaconda\\anaconda3\\envs\\graph\\Lib\\site-packages\\httpx\\_transports\\default.py:236\u001b[0m, in \u001b[0;36mHTTPTransport.handle_request\u001b[1;34m(self, request)\u001b[0m\n\u001b[0;32m    223\u001b[0m req \u001b[38;5;241m=\u001b[39m httpcore\u001b[38;5;241m.\u001b[39mRequest(\n\u001b[0;32m    224\u001b[0m     method\u001b[38;5;241m=\u001b[39mrequest\u001b[38;5;241m.\u001b[39mmethod,\n\u001b[0;32m    225\u001b[0m     url\u001b[38;5;241m=\u001b[39mhttpcore\u001b[38;5;241m.\u001b[39mURL(\n\u001b[1;32m   (...)\u001b[0m\n\u001b[0;32m    233\u001b[0m     extensions\u001b[38;5;241m=\u001b[39mrequest\u001b[38;5;241m.\u001b[39mextensions,\n\u001b[0;32m    234\u001b[0m )\n\u001b[0;32m    235\u001b[0m \u001b[38;5;28;01mwith\u001b[39;00m map_httpcore_exceptions():\n\u001b[1;32m--> 236\u001b[0m     resp \u001b[38;5;241m=\u001b[39m \u001b[38;5;28mself\u001b[39m\u001b[38;5;241m.\u001b[39m_pool\u001b[38;5;241m.\u001b[39mhandle_request(req)\n\u001b[0;32m    238\u001b[0m \u001b[38;5;28;01massert\u001b[39;00m \u001b[38;5;28misinstance\u001b[39m(resp\u001b[38;5;241m.\u001b[39mstream, typing\u001b[38;5;241m.\u001b[39mIterable)\n\u001b[0;32m    240\u001b[0m \u001b[38;5;28;01mreturn\u001b[39;00m Response(\n\u001b[0;32m    241\u001b[0m     status_code\u001b[38;5;241m=\u001b[39mresp\u001b[38;5;241m.\u001b[39mstatus,\n\u001b[0;32m    242\u001b[0m     headers\u001b[38;5;241m=\u001b[39mresp\u001b[38;5;241m.\u001b[39mheaders,\n\u001b[0;32m    243\u001b[0m     stream\u001b[38;5;241m=\u001b[39mResponseStream(resp\u001b[38;5;241m.\u001b[39mstream),\n\u001b[0;32m    244\u001b[0m     extensions\u001b[38;5;241m=\u001b[39mresp\u001b[38;5;241m.\u001b[39mextensions,\n\u001b[0;32m    245\u001b[0m )\n",
      "File \u001b[1;32mg:\\anaconda\\anaconda3\\envs\\graph\\Lib\\site-packages\\httpcore\\_sync\\connection_pool.py:216\u001b[0m, in \u001b[0;36mConnectionPool.handle_request\u001b[1;34m(self, request)\u001b[0m\n\u001b[0;32m    213\u001b[0m         closing \u001b[38;5;241m=\u001b[39m \u001b[38;5;28mself\u001b[39m\u001b[38;5;241m.\u001b[39m_assign_requests_to_connections()\n\u001b[0;32m    215\u001b[0m     \u001b[38;5;28mself\u001b[39m\u001b[38;5;241m.\u001b[39m_close_connections(closing)\n\u001b[1;32m--> 216\u001b[0m     \u001b[38;5;28;01mraise\u001b[39;00m exc \u001b[38;5;28;01mfrom\u001b[39;00m \u001b[38;5;28;01mNone\u001b[39;00m\n\u001b[0;32m    218\u001b[0m \u001b[38;5;66;03m# Return the response. Note that in this case we still have to manage\u001b[39;00m\n\u001b[0;32m    219\u001b[0m \u001b[38;5;66;03m# the point at which the response is closed.\u001b[39;00m\n\u001b[0;32m    220\u001b[0m \u001b[38;5;28;01massert\u001b[39;00m \u001b[38;5;28misinstance\u001b[39m(response\u001b[38;5;241m.\u001b[39mstream, Iterable)\n",
      "File \u001b[1;32mg:\\anaconda\\anaconda3\\envs\\graph\\Lib\\site-packages\\httpcore\\_sync\\connection_pool.py:196\u001b[0m, in \u001b[0;36mConnectionPool.handle_request\u001b[1;34m(self, request)\u001b[0m\n\u001b[0;32m    192\u001b[0m connection \u001b[38;5;241m=\u001b[39m pool_request\u001b[38;5;241m.\u001b[39mwait_for_connection(timeout\u001b[38;5;241m=\u001b[39mtimeout)\n\u001b[0;32m    194\u001b[0m \u001b[38;5;28;01mtry\u001b[39;00m:\n\u001b[0;32m    195\u001b[0m     \u001b[38;5;66;03m# Send the request on the assigned connection.\u001b[39;00m\n\u001b[1;32m--> 196\u001b[0m     response \u001b[38;5;241m=\u001b[39m connection\u001b[38;5;241m.\u001b[39mhandle_request(\n\u001b[0;32m    197\u001b[0m         pool_request\u001b[38;5;241m.\u001b[39mrequest\n\u001b[0;32m    198\u001b[0m     )\n\u001b[0;32m    199\u001b[0m \u001b[38;5;28;01mexcept\u001b[39;00m ConnectionNotAvailable:\n\u001b[0;32m    200\u001b[0m     \u001b[38;5;66;03m# In some cases a connection may initially be available to\u001b[39;00m\n\u001b[0;32m    201\u001b[0m     \u001b[38;5;66;03m# handle a request, but then become unavailable.\u001b[39;00m\n\u001b[0;32m    202\u001b[0m     \u001b[38;5;66;03m#\u001b[39;00m\n\u001b[0;32m    203\u001b[0m     \u001b[38;5;66;03m# In this case we clear the connection and try again.\u001b[39;00m\n\u001b[0;32m    204\u001b[0m     pool_request\u001b[38;5;241m.\u001b[39mclear_connection()\n",
      "File \u001b[1;32mg:\\anaconda\\anaconda3\\envs\\graph\\Lib\\site-packages\\httpcore\\_sync\\http_proxy.py:344\u001b[0m, in \u001b[0;36mTunnelHTTPConnection.handle_request\u001b[1;34m(self, request)\u001b[0m\n\u001b[0;32m    337\u001b[0m             \u001b[38;5;28mself\u001b[39m\u001b[38;5;241m.\u001b[39m_connection \u001b[38;5;241m=\u001b[39m HTTP11Connection(\n\u001b[0;32m    338\u001b[0m                 origin\u001b[38;5;241m=\u001b[39m\u001b[38;5;28mself\u001b[39m\u001b[38;5;241m.\u001b[39m_remote_origin,\n\u001b[0;32m    339\u001b[0m                 stream\u001b[38;5;241m=\u001b[39mstream,\n\u001b[0;32m    340\u001b[0m                 keepalive_expiry\u001b[38;5;241m=\u001b[39m\u001b[38;5;28mself\u001b[39m\u001b[38;5;241m.\u001b[39m_keepalive_expiry,\n\u001b[0;32m    341\u001b[0m             )\n\u001b[0;32m    343\u001b[0m         \u001b[38;5;28mself\u001b[39m\u001b[38;5;241m.\u001b[39m_connected \u001b[38;5;241m=\u001b[39m \u001b[38;5;28;01mTrue\u001b[39;00m\n\u001b[1;32m--> 344\u001b[0m \u001b[38;5;28;01mreturn\u001b[39;00m \u001b[38;5;28mself\u001b[39m\u001b[38;5;241m.\u001b[39m_connection\u001b[38;5;241m.\u001b[39mhandle_request(request)\n",
      "File \u001b[1;32mg:\\anaconda\\anaconda3\\envs\\graph\\Lib\\site-packages\\httpcore\\_sync\\http11.py:143\u001b[0m, in \u001b[0;36mHTTP11Connection.handle_request\u001b[1;34m(self, request)\u001b[0m\n\u001b[0;32m    141\u001b[0m     \u001b[38;5;28;01mwith\u001b[39;00m Trace(\u001b[38;5;124m\"\u001b[39m\u001b[38;5;124mresponse_closed\u001b[39m\u001b[38;5;124m\"\u001b[39m, logger, request) \u001b[38;5;28;01mas\u001b[39;00m trace:\n\u001b[0;32m    142\u001b[0m         \u001b[38;5;28mself\u001b[39m\u001b[38;5;241m.\u001b[39m_response_closed()\n\u001b[1;32m--> 143\u001b[0m \u001b[38;5;28;01mraise\u001b[39;00m exc\n",
      "File \u001b[1;32mg:\\anaconda\\anaconda3\\envs\\graph\\Lib\\site-packages\\httpcore\\_sync\\http11.py:113\u001b[0m, in \u001b[0;36mHTTP11Connection.handle_request\u001b[1;34m(self, request)\u001b[0m\n\u001b[0;32m    102\u001b[0m     \u001b[38;5;28;01mpass\u001b[39;00m\n\u001b[0;32m    104\u001b[0m \u001b[38;5;28;01mwith\u001b[39;00m Trace(\n\u001b[0;32m    105\u001b[0m     \u001b[38;5;124m\"\u001b[39m\u001b[38;5;124mreceive_response_headers\u001b[39m\u001b[38;5;124m\"\u001b[39m, logger, request, kwargs\n\u001b[0;32m    106\u001b[0m ) \u001b[38;5;28;01mas\u001b[39;00m trace:\n\u001b[0;32m    107\u001b[0m     (\n\u001b[0;32m    108\u001b[0m         http_version,\n\u001b[0;32m    109\u001b[0m         status,\n\u001b[0;32m    110\u001b[0m         reason_phrase,\n\u001b[0;32m    111\u001b[0m         headers,\n\u001b[0;32m    112\u001b[0m         trailing_data,\n\u001b[1;32m--> 113\u001b[0m     ) \u001b[38;5;241m=\u001b[39m \u001b[38;5;28mself\u001b[39m\u001b[38;5;241m.\u001b[39m_receive_response_headers(\u001b[38;5;241m*\u001b[39m\u001b[38;5;241m*\u001b[39mkwargs)\n\u001b[0;32m    114\u001b[0m     trace\u001b[38;5;241m.\u001b[39mreturn_value \u001b[38;5;241m=\u001b[39m (\n\u001b[0;32m    115\u001b[0m         http_version,\n\u001b[0;32m    116\u001b[0m         status,\n\u001b[0;32m    117\u001b[0m         reason_phrase,\n\u001b[0;32m    118\u001b[0m         headers,\n\u001b[0;32m    119\u001b[0m     )\n\u001b[0;32m    121\u001b[0m network_stream \u001b[38;5;241m=\u001b[39m \u001b[38;5;28mself\u001b[39m\u001b[38;5;241m.\u001b[39m_network_stream\n",
      "File \u001b[1;32mg:\\anaconda\\anaconda3\\envs\\graph\\Lib\\site-packages\\httpcore\\_sync\\http11.py:186\u001b[0m, in \u001b[0;36mHTTP11Connection._receive_response_headers\u001b[1;34m(self, request)\u001b[0m\n\u001b[0;32m    183\u001b[0m timeout \u001b[38;5;241m=\u001b[39m timeouts\u001b[38;5;241m.\u001b[39mget(\u001b[38;5;124m\"\u001b[39m\u001b[38;5;124mread\u001b[39m\u001b[38;5;124m\"\u001b[39m, \u001b[38;5;28;01mNone\u001b[39;00m)\n\u001b[0;32m    185\u001b[0m \u001b[38;5;28;01mwhile\u001b[39;00m \u001b[38;5;28;01mTrue\u001b[39;00m:\n\u001b[1;32m--> 186\u001b[0m     event \u001b[38;5;241m=\u001b[39m \u001b[38;5;28mself\u001b[39m\u001b[38;5;241m.\u001b[39m_receive_event(timeout\u001b[38;5;241m=\u001b[39mtimeout)\n\u001b[0;32m    187\u001b[0m     \u001b[38;5;28;01mif\u001b[39;00m \u001b[38;5;28misinstance\u001b[39m(event, h11\u001b[38;5;241m.\u001b[39mResponse):\n\u001b[0;32m    188\u001b[0m         \u001b[38;5;28;01mbreak\u001b[39;00m\n",
      "File \u001b[1;32mg:\\anaconda\\anaconda3\\envs\\graph\\Lib\\site-packages\\httpcore\\_sync\\http11.py:224\u001b[0m, in \u001b[0;36mHTTP11Connection._receive_event\u001b[1;34m(self, timeout)\u001b[0m\n\u001b[0;32m    221\u001b[0m     event \u001b[38;5;241m=\u001b[39m \u001b[38;5;28mself\u001b[39m\u001b[38;5;241m.\u001b[39m_h11_state\u001b[38;5;241m.\u001b[39mnext_event()\n\u001b[0;32m    223\u001b[0m \u001b[38;5;28;01mif\u001b[39;00m event \u001b[38;5;129;01mis\u001b[39;00m h11\u001b[38;5;241m.\u001b[39mNEED_DATA:\n\u001b[1;32m--> 224\u001b[0m     data \u001b[38;5;241m=\u001b[39m \u001b[38;5;28mself\u001b[39m\u001b[38;5;241m.\u001b[39m_network_stream\u001b[38;5;241m.\u001b[39mread(\n\u001b[0;32m    225\u001b[0m         \u001b[38;5;28mself\u001b[39m\u001b[38;5;241m.\u001b[39mREAD_NUM_BYTES, timeout\u001b[38;5;241m=\u001b[39mtimeout\n\u001b[0;32m    226\u001b[0m     )\n\u001b[0;32m    228\u001b[0m     \u001b[38;5;66;03m# If we feed this case through h11 we'll raise an exception like:\u001b[39;00m\n\u001b[0;32m    229\u001b[0m     \u001b[38;5;66;03m#\u001b[39;00m\n\u001b[0;32m    230\u001b[0m     \u001b[38;5;66;03m#     httpcore.RemoteProtocolError: can't handle event type\u001b[39;00m\n\u001b[1;32m   (...)\u001b[0m\n\u001b[0;32m    234\u001b[0m     \u001b[38;5;66;03m# perspective. Instead we handle this case distinctly and treat\u001b[39;00m\n\u001b[0;32m    235\u001b[0m     \u001b[38;5;66;03m# it as a ConnectError.\u001b[39;00m\n\u001b[0;32m    236\u001b[0m     \u001b[38;5;28;01mif\u001b[39;00m data \u001b[38;5;241m==\u001b[39m \u001b[38;5;124mb\u001b[39m\u001b[38;5;124m\"\u001b[39m\u001b[38;5;124m\"\u001b[39m \u001b[38;5;129;01mand\u001b[39;00m \u001b[38;5;28mself\u001b[39m\u001b[38;5;241m.\u001b[39m_h11_state\u001b[38;5;241m.\u001b[39mtheir_state \u001b[38;5;241m==\u001b[39m h11\u001b[38;5;241m.\u001b[39mSEND_RESPONSE:\n",
      "File \u001b[1;32mg:\\anaconda\\anaconda3\\envs\\graph\\Lib\\site-packages\\httpcore\\_backends\\sync.py:126\u001b[0m, in \u001b[0;36mSyncStream.read\u001b[1;34m(self, max_bytes, timeout)\u001b[0m\n\u001b[0;32m    124\u001b[0m \u001b[38;5;28;01mwith\u001b[39;00m map_exceptions(exc_map):\n\u001b[0;32m    125\u001b[0m     \u001b[38;5;28mself\u001b[39m\u001b[38;5;241m.\u001b[39m_sock\u001b[38;5;241m.\u001b[39msettimeout(timeout)\n\u001b[1;32m--> 126\u001b[0m     \u001b[38;5;28;01mreturn\u001b[39;00m \u001b[38;5;28mself\u001b[39m\u001b[38;5;241m.\u001b[39m_sock\u001b[38;5;241m.\u001b[39mrecv(max_bytes)\n",
      "File \u001b[1;32mg:\\anaconda\\anaconda3\\envs\\graph\\Lib\\ssl.py:1295\u001b[0m, in \u001b[0;36mSSLSocket.recv\u001b[1;34m(self, buflen, flags)\u001b[0m\n\u001b[0;32m   1291\u001b[0m     \u001b[38;5;28;01mif\u001b[39;00m flags \u001b[38;5;241m!=\u001b[39m \u001b[38;5;241m0\u001b[39m:\n\u001b[0;32m   1292\u001b[0m         \u001b[38;5;28;01mraise\u001b[39;00m \u001b[38;5;167;01mValueError\u001b[39;00m(\n\u001b[0;32m   1293\u001b[0m             \u001b[38;5;124m\"\u001b[39m\u001b[38;5;124mnon-zero flags not allowed in calls to recv() on \u001b[39m\u001b[38;5;132;01m%s\u001b[39;00m\u001b[38;5;124m\"\u001b[39m \u001b[38;5;241m%\u001b[39m\n\u001b[0;32m   1294\u001b[0m             \u001b[38;5;28mself\u001b[39m\u001b[38;5;241m.\u001b[39m\u001b[38;5;18m__class__\u001b[39m)\n\u001b[1;32m-> 1295\u001b[0m     \u001b[38;5;28;01mreturn\u001b[39;00m \u001b[38;5;28mself\u001b[39m\u001b[38;5;241m.\u001b[39mread(buflen)\n\u001b[0;32m   1296\u001b[0m \u001b[38;5;28;01melse\u001b[39;00m:\n\u001b[0;32m   1297\u001b[0m     \u001b[38;5;28;01mreturn\u001b[39;00m \u001b[38;5;28msuper\u001b[39m()\u001b[38;5;241m.\u001b[39mrecv(buflen, flags)\n",
      "File \u001b[1;32mg:\\anaconda\\anaconda3\\envs\\graph\\Lib\\ssl.py:1168\u001b[0m, in \u001b[0;36mSSLSocket.read\u001b[1;34m(self, len, buffer)\u001b[0m\n\u001b[0;32m   1166\u001b[0m         \u001b[38;5;28;01mreturn\u001b[39;00m \u001b[38;5;28mself\u001b[39m\u001b[38;5;241m.\u001b[39m_sslobj\u001b[38;5;241m.\u001b[39mread(\u001b[38;5;28mlen\u001b[39m, buffer)\n\u001b[0;32m   1167\u001b[0m     \u001b[38;5;28;01melse\u001b[39;00m:\n\u001b[1;32m-> 1168\u001b[0m         \u001b[38;5;28;01mreturn\u001b[39;00m \u001b[38;5;28mself\u001b[39m\u001b[38;5;241m.\u001b[39m_sslobj\u001b[38;5;241m.\u001b[39mread(\u001b[38;5;28mlen\u001b[39m)\n\u001b[0;32m   1169\u001b[0m \u001b[38;5;28;01mexcept\u001b[39;00m SSLError \u001b[38;5;28;01mas\u001b[39;00m x:\n\u001b[0;32m   1170\u001b[0m     \u001b[38;5;28;01mif\u001b[39;00m x\u001b[38;5;241m.\u001b[39margs[\u001b[38;5;241m0\u001b[39m] \u001b[38;5;241m==\u001b[39m SSL_ERROR_EOF \u001b[38;5;129;01mand\u001b[39;00m \u001b[38;5;28mself\u001b[39m\u001b[38;5;241m.\u001b[39msuppress_ragged_eofs:\n",
      "\u001b[1;31mKeyboardInterrupt\u001b[0m: "
     ]
    }
   ],
   "source": [
    "## Create KnowledgeGraphBuilder instance for extracting Knowledge Graph\n",
    "# Input directory and output directory\n",
    "input_dir = 'G:\\code\\knowledge_graph_generator\\example-data\\example-input'  \n",
    "output_dir = 'G:\\code\\knowledge_graph_generator\\example-data\\example-output'\n",
    "\n",
    "# Create an entity relationship KGBuilder instance for extracting entity relationship triples\n",
    "Ontology_ER = define_ERontology()\n",
    "ERKGBuilder = KnowledgeGraphBuilder(ontology=Ontology_ER, llm_client=LLM)\n",
    "\n",
    "# Create an entity attribute KGBuilder instance for extracting entity attribute triples\n",
    "Ontology_EA = define_EAontology()\n",
    "EAKGBuilder = KnowledgeGraphBuilder(ontology=Ontology_EA, llm_client=LLM)\n",
    "\n",
    "# Process multiple txt documents and convert them to lists\n",
    "for filename in os.listdir(input_dir):\n",
    "    if filename.endswith(\".txt\"):\n",
    "        input_file = os.path.join(input_dir, filename)\n",
    "        with open(input_file, 'r', encoding='utf-8') as f:\n",
    "            lines = f.readlines()\n",
    "            user_text = [\"\\n\" + line.strip() + \"\\n\" for line in lines if line.strip()]\n",
    "\n",
    "        docs = ERKGBuilder.create_docs(user_text)\n",
    "        ERKnowledgeGraph = ERKGBuilder.documents_to_graph(list(docs), delay=0)\n",
    "\n",
    "        # Export entity relationship triples to Excel\n",
    "        excel_filename = os.path.splitext(filename)[0]  \n",
    "        export_to_directory(ERKnowledgeGraph, Ontology_ER, output_dir)\n",
    "\n",
    "        docs = EAKGBuilder.create_docs(user_text)\n",
    "        EAKnowledgeGraph = EAKGBuilder.documents_to_graph(list(docs), delay=0)\n",
    "\n",
    "        # Export entity attribute triples to Excel\n",
    "        export_to_directory(EAKnowledgeGraph, Ontology_EA, output_dir)\n",
    "\n",
    "        print(f\"Processed {filename}\")"
   ]
  },
  {
   "cell_type": "markdown",
   "metadata": {},
   "source": [
    "### Write triples from an Excel table to Neo4j (including entity relationships, entity attributes)"
   ]
  },
  {
   "cell_type": "code",
   "execution_count": null,
   "metadata": {},
   "outputs": [],
   "source": [
    "# Triples Directory\n",
    "Triples_dir = \"G:\\code\\knowledge_graph_generator\\example-data\\example-output\"\n",
    "# Create an instance that writes an entity-relationship and an entity-attribute triples to Neo4j\n",
    "KGNeo4j = KGToNeo4j(uri, username, password)\n",
    "\n",
    "# Check if the directory exists\n",
    "if Triples_dir:  \n",
    "    for filename in os.listdir(Triples_dir):\n",
    "        file_path = os.path.join(Triples_dir, filename)\n",
    "        if os.path.isfile(file_path) and filename.endswith(('.xlsx', '.xls')):\n",
    "            df = pd.read_excel(file_path)\n",
    "            if 'relationship' in df.columns[2]: \n",
    "                KGNeo4j.graph_to_neo4j(Ontology_ER, file_path)\n",
    "            elif 'attribute' in df.columns[2]:\n",
    "                KGNeo4j.graph_to_neo4j(Ontology_EA, file_path)"
   ]
  }
 ],
 "metadata": {
  "kernelspec": {
   "display_name": "graph",
   "language": "python",
   "name": "python3"
  },
  "language_info": {
   "codemirror_mode": {
    "name": "ipython",
    "version": 3
   },
   "file_extension": ".py",
   "mimetype": "text/x-python",
   "name": "python",
   "nbconvert_exporter": "python",
   "pygments_lexer": "ipython3",
   "version": "3.11.9"
  },
  "orig_nbformat": 4
 },
 "nbformat": 4,
 "nbformat_minor": 2
}
