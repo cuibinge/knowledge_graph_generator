{
 "cells": [
  {
   "cell_type": "code",
   "execution_count": null,
   "metadata": {
    "ExecuteTime": {
     "end_time": "2024-10-10T11:37:23.780403Z",
     "start_time": "2024-10-10T11:37:23.775565Z"
    }
   },
   "outputs": [],
   "source": [
    "# Import related packages\n",
    "from knowledge_graph_builder import KnowledgeGraphBuilder, EAOntology, EROntology, GroqClient\n",
    "from knowledge_graph_builder import KGToNeo4j\n",
    "import pandas as pd\n",
    "import os\n",
    "# Set the username and password for the neo4j database\n",
    "uri = \"bolt://localhost:7687\"\n",
    "username = \"neo4j\"\n",
    "password = \"\""
   ]
  },
  {
   "cell_type": "markdown",
   "metadata": {},
   "source": [
    "### Define ontology"
   ]
  },
  {
   "cell_type": "code",
   "execution_count": 2,
   "metadata": {
    "ExecuteTime": {
     "end_time": "2024-10-10T11:37:23.825989Z",
     "start_time": "2024-10-10T11:37:23.820205Z"
    }
   },
   "outputs": [],
   "source": [
    "# Define Entity Relationship Ontology\n",
    "def define_ERontology():\n",
    "    return EROntology(\n",
    "        entities=[\n",
    "            {\"植物\": \"红树,芦苇,互花米草,碱蓬,盐地碱蓬,盐角草,獐毛,蒲公英,柽柳,稻,丛枝蓼,川蔓藻,刺槐,刺苋,大叶藻,地榆,繁缕,拂子茅,浮萍,甘草,杠柳,狗牙根,构,黑藻,碱茅,金鱼藻,决明,苦草,苦荬菜,荔枝草,木榄,海莲,滨麦，秋英\"},\n",
    "            {\"水体\": \"海水, 潮沟, 池塘, 河流, 湖泊, 湿地池, 沼泽\"},\n",
    "            {\"滩涂\": \"滩涂,潮滩\"},\n",
    "            {\"农田\": \"旱耕地, 水浇地\"},\n",
    "            {\"湿地\": \"海滩盐沼\"},\n",
    "            {\"属\": \"蓼属,川蔓藻属,稻属\"},\n",
    "            {\"科\": \"菊科,泽泻科,苋科,豆科,禾本科,蓼科，川蔓藻科\"},\n",
    "            {\"界\":\"植物界\"},\n",
    "            {\"门\":\"被子植物门,绿藻门,红藻门\"},\n",
    "            {\"纲\":\"木兰纲,双子叶植物纲,单子叶植物纲,木贼纲\"},\n",
    "            {\"目\":\"菊目,泽泻目,石竹目,豆目,禾本目\"},\n",
    "            {\"群落\":\"草甸,红树林群落,香蒲群落,海草床群落，潮上带群落,潮间带群落，白茅群落,芦苇群落,盐沼群落,棒头草群落,凤眼莲群落,空心莲子草群落,眼子菜群落,酸模叶蓼群落,大薸群落\"},\n",
    "        ],\n",
    "        relationships=[\n",
    "            \"邻近\",\n",
    "            \"生长\",\n",
    "            \"界\",\n",
    "            \"门\",\n",
    "            \"纲\",\n",
    "            \"目\",\n",
    "            \"科\",\n",
    "            \"属\",\n",
    "            \"别名\",\n",
    "            \"俗名\",\n",
    "            \"优势种\",\n",
    "            \"伴生种\",\n",
    "        ]\n",
    ")"
   ]
  },
  {
   "cell_type": "code",
   "execution_count": 3,
   "metadata": {},
   "outputs": [],
   "source": [
    "# Define Entity Attribute Ontology\n",
    "def define_EAontology():\n",
    "    return EAOntology(\n",
    "        entities=[\n",
    "            {\"植物\": \"红树,芦苇,互花米草,碱蓬,盐地碱蓬,盐角草,獐毛,蒲公英,柽柳,稻,丛枝蓼,川蔓藻,刺槐,刺苋,大叶藻,地榆,繁缕,拂子茅,浮萍,甘草,杠柳,狗牙根,构,黑藻,碱茅,金鱼藻,决明,苦草,苦荬菜,荔枝草,木榄,海莲,滨麦，秋英\"},\n",
    "            {\"水体\": \"海水, 潮沟, 池塘, 河流, 湖泊, 湿地池, 沼泽\"},\n",
    "            {\"滩涂\": \"滩涂,潮滩\"},\n",
    "            {\"湿地\": \"海滩盐沼\"},{\"群落\":\"草甸,红树林群落,香蒲群落,海草床群落，潮上带群落,潮间带群落，白茅群落,芦苇群落,盐沼群落,棒头草群落,凤眼莲群落,空心莲子草群落,眼子菜群落,酸模叶蓼群落,大薸群落\"},\n",
    "        ],\n",
    "        attributes=[\n",
    "            {\"生活型\": \"多年生草本植物,一年生草本植物,一年或二年生草本植物,乔木或灌木,多年生沉水草本植物\"},\n",
    "            {\"高度\": \"45-100厘米\"},\n",
    "            {\"盖度\": \"75-90%,100%\"},\n",
    "            {\"颜色\": \"深蓝色,绿色,粉红色\"},\n",
    "            {\"染色体\": \"2n=30\"},\n",
    "            {\"花\": \"花单生，盛开时长约3厘米，花梗萼平滑无棱，暗黄红色，花柱棱柱形，长约2厘米，黄色且柱头有裂；\"},\n",
    "            {\"学名\": \"yrrhiza uralensis Fisch.\"},\n",
    "            {\"茎\": \"茎直立，颜色为绿色，表面光滑。\"},\n",
    "            {\"叶\": \"叶椭圆状长圆形，长达15厘米，先端短尖，基部楔形；\"},\n",
    "            {\"花\": \"花序圆锥状疏展，花色为淡黄色，长约30厘米，分枝多，棱粗糙，在成熟期弯垂，小穗两侧扁，为长圆状卵形或椭圆形，长约1厘米，宽2-4毫米，花药长2-3毫米。\"},\n",
    "            {\"果实\": \"果实为谷粒，呈卵形或椭圆形对圆筒状，颜色为米白色或金黄色，长约5毫米，宽约2毫米，厚1-1.5毫米。\"},\n",
    "            {\"种子\": \"种子矩圆状卵形，种皮近革质，有钩状刺毛，直径约1.5毫米。\"},\n",
    "            {\"功效\": \"全草可入药，有清血、解热、生肌之效。\"},\n",
    "            {\"物候期\": \"花期4-5月，果期6-7月。\"},\n",
    "            {\"用途\": \"韧皮纤维可作造纸材料\"},\n",
    "            {\"作用\": \"沼泽在维护生态系统稳定性、促进水循环和提供养分方面具有重要作用。滨海湿地草甸在水质净化、洪水调节和土壤保持方面发挥着重要作用，能够过滤污染物，减少水土流失。\"},\n",
    "            {\"生境\":\"生于轻度盐碱性湿润草地、田边、水溪、河谷、低草甸盐化沙地。\"},  \n",
    "        ]\n",
    "    )"
   ]
  },
  {
   "cell_type": "markdown",
   "metadata": {},
   "source": [
    "### Define a function that exports triples to excel"
   ]
  },
  {
   "cell_type": "code",
   "execution_count": null,
   "metadata": {},
   "outputs": [],
   "source": [
    "\n",
    "def export_to_directory(graph, ontology, output_dir):\n",
    "    if not os.path.exists(output_dir):\n",
    "        os.makedirs(output_dir)\n",
    "    \n",
    "    # Define file the name\n",
    "    ER_filename = \"ERTriples.xlsx\"\n",
    "    EA_filename = \"EATriples.xlsx\"\n",
    "    \n",
    "    # Build a complete file path\n",
    "    ER_outputfile = os.path.join(output_dir, ER_filename)\n",
    "    EA_outputfile = os.path.join(output_dir, EA_filename)\n",
    "    \n",
    "    # Extracting Entity Relationship Triples\n",
    "    ER_extracted_data = [\n",
    "        [edge.node_1.entity, edge.node_1.name, edge.node_2.entity, edge.node_2.name, edge.relationship]\n",
    "        for edge in graph\n",
    "        if isinstance(ontology, EROntology)  \n",
    "    ]\n",
    "    # Extracting Entity Attribute Triples\n",
    "    EA_extracted_data = [\n",
    "        [edge.node_1.entity, edge.node_1.name, edge.node_2.attribute, edge.node_2.name, edge.relationship]\n",
    "        for edge in graph\n",
    "        if isinstance(ontology, EAOntology)  \n",
    "    ]\n",
    "    \n",
    "    # Write Entity Relationship Triples to Excel\n",
    "    if ER_extracted_data:\n",
    "        ER_df = pd.DataFrame(ER_extracted_data, columns=['head', 'key1', 'tail', 'key2', 'relationship'])\n",
    "        ER_df = ER_df[['head', 'key1', 'relationship', 'tail', 'key2']]\n",
    "        ER_fileexists = os.path.isfile(ER_outputfile)\n",
    "        if not ER_fileexists:\n",
    "            ER_df.to_excel(ER_outputfile, index=False)\n",
    "        else:\n",
    "            with pd.ExcelWriter(ER_outputfile, mode='a', if_sheet_exists='overlay') as writer:\n",
    "                existing_df_er = pd.read_excel(ER_outputfile)\n",
    "                combined_df_er = pd.concat([existing_df_er, ER_df], ignore_index=True)\n",
    "                combined_df_er.to_excel(writer, index=False)\n",
    "    \n",
    "    # Write Entity Attribute Triples to Excel\n",
    "    if EA_extracted_data:\n",
    "        EA_df = pd.DataFrame(EA_extracted_data, columns=['head', 'key1', 'tail', 'key2', 'attribute'])\n",
    "        EA_df = EA_df[['head', 'key1', 'attribute', 'tail', 'key2']]\n",
    "        EA_fileexists = os.path.isfile(EA_outputfile)\n",
    "        if not EA_fileexists:\n",
    "            EA_df.to_excel(EA_outputfile, index=False)\n",
    "        else:\n",
    "            with pd.ExcelWriter(EA_outputfile, mode='a', if_sheet_exists='overlay') as writer:\n",
    "                existing_df_ea = pd.read_excel(EA_outputfile)\n",
    "                combined_df_ea = pd.concat([existing_df_ea, EA_df], ignore_index=True)\n",
    "                combined_df_ea.to_excel(writer, index=False)\n"
   ]
  },
  {
   "attachments": {},
   "cell_type": "markdown",
   "metadata": {},
   "source": [
    "### Define the LLM"
   ]
  },
  {
   "cell_type": "code",
   "execution_count": 5,
   "metadata": {
    "ExecuteTime": {
     "end_time": "2024-10-10T11:37:23.852601Z",
     "start_time": "2024-10-10T11:37:23.843324Z"
    }
   },
   "outputs": [],
   "source": [
    "# Groq models\n",
    "model = \"llama3-70b-8192\"\n",
    "\n",
    "# Open AI models\n",
    "oai_model=\"gpt-3.5-turbo\"\n",
    "\n",
    "# Use Groq\n",
    "LLM = GroqClient(model=model, temperature=0.1, top_p=0.5)\n",
    "# OR Use OpenAI\n",
    "# llm = OpenAIClient(model=oai_model, temperature=0.1, top_p=0.5)"
   ]
  },
  {
   "cell_type": "code",
   "execution_count": null,
   "metadata": {
    "ExecuteTime": {
     "end_time": "2024-10-10T11:37:23.968177Z",
     "start_time": "2024-10-10T11:37:23.895480Z"
    }
   },
   "outputs": [],
   "source": [
    "## Create KnowledgeGraphBuilder instance for extracting Knowledge Graph\n",
    "# Input directory and output directory\n",
    "input_dir = 'G:\\code\\knowledge_graph_generator\\example-data\\example-input'  \n",
    "output_dir = 'G:\\code\\knowledge_graph_generator\\example-data\\example-output'\n",
    "\n",
    "# Create an entity relationship KGBuilder instance for extracting entity relationship triples\n",
    "Ontology_ER = define_ERontology()\n",
    "ERKGBuilder = KnowledgeGraphBuilder(ontology=Ontology_ER, llm_client=LLM)\n",
    "\n",
    "# Create an entity attribute KGBuilder instance for extracting entity attribute triples\n",
    "Ontology_EA = define_EAontology()\n",
    "EAKGBuilder = KnowledgeGraphBuilder(ontology=Ontology_EA, llm_client=LLM)\n",
    "\n",
    "# Process multiple txt documents and convert them to lists\n",
    "for filename in os.listdir(input_dir):\n",
    "    if filename.endswith(\".txt\"):\n",
    "        input_file = os.path.join(input_dir, filename)\n",
    "        with open(input_file, 'r', encoding='utf-8') as f:\n",
    "            lines = f.readlines()\n",
    "            user_text = [\"\\n\" + line.strip() + \"\\n\" for line in lines if line.strip()]\n",
    "\n",
    "        docs = ERKGBuilder.create_docs(user_text)\n",
    "        ERKnowledgeGraph = ERKGBuilder.documents_to_graph(list(docs), delay=0)\n",
    "\n",
    "        # Export entity relationship triples to Excel\n",
    "        excel_filename = os.path.splitext(filename)[0]  \n",
    "        export_to_directory(ERKnowledgeGraph, Ontology_ER, output_dir)\n",
    "\n",
    "        docs = EAKGBuilder.create_docs(user_text)\n",
    "        EAKnowledgeGraph = EAKGBuilder.documents_to_graph(list(docs), delay=0)\n",
    "\n",
    "        # Export entity attribute triples to Excel\n",
    "        export_to_directory(EAKnowledgeGraph, Ontology_EA, output_dir)\n",
    "\n",
    "        print(f\"Processed {filename}\")"
   ]
  },
  {
   "cell_type": "markdown",
   "metadata": {},
   "source": [
    "### Write triples from an Excel table to Neo4j (including entity relationships, entity attributes)"
   ]
  },
  {
   "cell_type": "code",
   "execution_count": null,
   "metadata": {},
   "outputs": [],
   "source": [
    "# Triples Directory\n",
    "Triples_dir = \"G:\\code\\knowledge_graph_generator\\example-data\\example-output\"\n",
    "# Create an instance that writes an entity-relationship and an entity-attribute triples to Neo4j\n",
    "KGNeo4j = KGToNeo4j(uri, username, password)\n",
    "\n",
    "# Check if the directory exists\n",
    "if Triples_dir:  \n",
    "    for filename in os.listdir(Triples_dir):\n",
    "        file_path = os.path.join(Triples_dir, filename)\n",
    "        if os.path.isfile(file_path) and filename.endswith(('.xlsx', '.xls')):\n",
    "            df = pd.read_excel(file_path)\n",
    "            if 'relationship' in df.columns[2]: \n",
    "                KGNeo4j.graph_to_neo4j(Ontology_ER, file_path)\n",
    "            elif 'attribute' in df.columns[2]:\n",
    "                KGNeo4j.graph_to_neo4j(Ontology_EA, file_path)"
   ]
  }
 ],
 "metadata": {
  "kernelspec": {
   "display_name": "graph",
   "language": "python",
   "name": "python3"
  },
  "language_info": {
   "codemirror_mode": {
    "name": "ipython",
    "version": 3
   },
   "file_extension": ".py",
   "mimetype": "text/x-python",
   "name": "python",
   "nbconvert_exporter": "python",
   "pygments_lexer": "ipython3",
   "version": "3.11.9"
  },
  "orig_nbformat": 4
 },
 "nbformat": 4,
 "nbformat_minor": 2
}
